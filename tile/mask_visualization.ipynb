{
 "cells": [
  {
   "cell_type": "markdown",
   "metadata": {},
   "source": [
    "# anno_mask vis"
   ]
  },
  {
   "cell_type": "code",
   "execution_count": 36,
   "metadata": {},
   "outputs": [
    {
     "data": {
      "image/png": "[encoded data removed]",
      "text/plain": [
       "<Figure size 432x288 with 1 Axes>"
      ]
     },
     "metadata": {
      "needs_background": "light"
     },
     "output_type": "display_data"
    }
   ],
   "source": [
    "import matplotlib.pyplot as plt\n",
    "from PIL import Image\n",
    "import numpy as np\n",
    "\n",
    "root = '/media/ldy/7E1CA94545711AE6/OSCC/mask_x8/anno_mask/'\n",
    "ex = '_20190403080921.png'\n",
    "\n",
    "img_path = root + ex\n",
    "\n",
    "img = np.array(Image.open(img_path), dtype='uint8')\n",
    "plt.imshow(img)\n",
    "plt.show()"
   ]
  },
  {
   "cell_type": "markdown",
   "metadata": {},
   "source": [
    "# std_mask vis"
   ]
  },
  {
   "cell_type": "code",
   "execution_count": 37,
   "metadata": {},
   "outputs": [
    {
     "data": {
      "image/png": "[encoded data removed]",
      "text/plain": [
       "<Figure size 432x288 with 1 Axes>"
      ]
     },
     "metadata": {
      "needs_background": "light"
     },
     "output_type": "display_data"
    }
   ],
   "source": [
    "import matplotlib.pyplot as plt\n",
    "from PIL import Image\n",
    "import numpy as np\n",
    "\n",
    "root = '/media/ldy/7E1CA94545711AE6/OSCC/mask_x8/std_mask/'\n",
    "ex = '_20190403080921.png'\n",
    "\n",
    "img_path = root + ex\n",
    "\n",
    "img = np.array(Image.open(img_path), dtype='uint8')\n",
    "plt.imshow(img)\n",
    "plt.show()"
   ]
  },
  {
   "cell_type": "markdown",
   "metadata": {},
   "source": [
    "# std_mask_rgb gen\n",
    "\n"
   ]
  },
  {
   "cell_type": "code",
   "execution_count": 46,
   "metadata": {},
   "outputs": [],
   "source": [
    "def class_to_RGB(label):\n",
    "    h, w = label.shape[0], label.shape[1]\n",
    "    colmap = np.zeros(shape=(h, w, 3)).astype('uint8')\n",
    "\n",
    "    indices = np.where(label == 1)\n",
    "    colmap[indices[0].tolist(), indices[1].tolist(), :] = [255, 0, 0]\n",
    "    indices = np.where(label == 2)\n",
    "    colmap[indices[0].tolist(), indices[1].tolist(), :] = [0, 255, 0]\n",
    "    indices = np.where(label == 3)\n",
    "    colmap[indices[0].tolist(), indices[1].tolist(), :] = [0, 0, 255]\n",
    "    indices = np.where(label == 0)\n",
    "    colmap[indices[0].tolist(), indices[1].tolist(), :] = [0, 0, 0]\n",
    "\n",
    "    return colmap"
   ]
  },
  {
   "cell_type": "code",
   "execution_count": 48,
   "metadata": {},
   "outputs": [
    {
     "name": "stdout",
     "output_type": "stream",
     "text": [
      "_20190403101027.png\n",
      "_20190404140854.png\n",
      "_20190412130816.png\n",
      "_20190718210408.png\n",
      "_20190403080921.png\n",
      "_20190403080932.png\n",
      "_20190403080952.png\n",
      "_20190403081003.png\n",
      "_20190403081013.png\n",
      "_20190403083910.png\n",
      "_20190403083921.png\n",
      "_20190403083941.png\n",
      "_20190403091239.png\n",
      "_20190403091249.png\n",
      "_20190403091259.png\n",
      "_20190403091310.png\n",
      "_20190403091320.png\n",
      "_20190403094116.png\n",
      "_20190403094156.png\n",
      "_20190403094206.png\n",
      "_20190403101908.png\n",
      "_20190403101928.png\n",
      "_20190403101939.png\n",
      "_20190403101949.png\n",
      "_20190403101959.png\n",
      "_20190403115136.png\n",
      "_20190403115146.png\n",
      "_20190403115157.png\n",
      "_20190403115208.png\n",
      "_20190404134831.png\n",
      "_20190404134841.png\n",
      "_20190404134923.png\n",
      "_20190404140803.png\n",
      "_20190404140813.png\n",
      "_20190404140823.png\n",
      "_20190404140844.png\n",
      "_20190404173751.png\n",
      "_20190409135946.png\n",
      "_20190409141622.png\n",
      "_20190409144119.png\n",
      "_20190409144129.png\n",
      "_20190409152251.png\n",
      "_20190409182931.png\n",
      "_20190409183934.png\n",
      "_20190412091216.png\n",
      "_20190412091226.png\n",
      "_20190412091236.png\n",
      "_20190412112805.png\n",
      "_20190412112816.png\n",
      "_20190412112827.png\n",
      "_20190412130756.png\n",
      "_20190412130806.png\n",
      "_20190412130826.png\n",
      "_20190412130836.png\n",
      "_20190412133705.png\n",
      "_20190412133715.png\n",
      "_20190412133725.png\n",
      "_20190412144040.png\n",
      "_20190718200921.png\n",
      "_20190718200932.png\n"
     ]
    },
    {
     "name": "stderr",
     "output_type": "stream",
     "text": [
      "/home/ldy/anaconda3/envs/pytorch/lib/python3.6/site-packages/PIL/Image.py:2735: DecompressionBombWarning: Image size (125499114 pixels) exceeds limit of 89478485 pixels, could be decompression bomb DOS attack.\n",
      "  DecompressionBombWarning,\n"
     ]
    },
    {
     "name": "stdout",
     "output_type": "stream",
     "text": [
      "_20190718200940.png\n",
      "_20190718200949.png\n",
      "_20190718200957.png\n",
      "_20190718203748.png\n",
      "_20190718203759.png\n"
     ]
    },
    {
     "name": "stderr",
     "output_type": "stream",
     "text": [
      "/home/ldy/anaconda3/envs/pytorch/lib/python3.6/site-packages/PIL/Image.py:2735: DecompressionBombWarning: Image size (109099119 pixels) exceeds limit of 89478485 pixels, could be decompression bomb DOS attack.\n",
      "  DecompressionBombWarning,\n"
     ]
    },
    {
     "name": "stdout",
     "output_type": "stream",
     "text": [
      "_20190718203809.png\n"
     ]
    },
    {
     "name": "stderr",
     "output_type": "stream",
     "text": [
      "/home/ldy/anaconda3/envs/pytorch/lib/python3.6/site-packages/PIL/Image.py:2735: DecompressionBombWarning: Image size (115977342 pixels) exceeds limit of 89478485 pixels, could be decompression bomb DOS attack.\n",
      "  DecompressionBombWarning,\n"
     ]
    },
    {
     "name": "stdout",
     "output_type": "stream",
     "text": [
      "_20190718203820.png\n"
     ]
    },
    {
     "name": "stderr",
     "output_type": "stream",
     "text": [
      "/home/ldy/anaconda3/envs/pytorch/lib/python3.6/site-packages/PIL/Image.py:2735: DecompressionBombWarning: Image size (104849220 pixels) exceeds limit of 89478485 pixels, could be decompression bomb DOS attack.\n",
      "  DecompressionBombWarning,\n"
     ]
    },
    {
     "name": "stdout",
     "output_type": "stream",
     "text": [
      "_20190718210348.png\n",
      "_20190718210418.png\n",
      "_20190718210428.png\n",
      "_20190718212026.png\n",
      "_20190718212036.png\n",
      "_20190718212046.png\n",
      "_20190718212056.png\n",
      "_20190718212106.png\n",
      "_20190718213907.png\n"
     ]
    },
    {
     "name": "stderr",
     "output_type": "stream",
     "text": [
      "/home/ldy/anaconda3/envs/pytorch/lib/python3.6/site-packages/PIL/Image.py:2735: DecompressionBombWarning: Image size (113041296 pixels) exceeds limit of 89478485 pixels, could be decompression bomb DOS attack.\n",
      "  DecompressionBombWarning,\n"
     ]
    },
    {
     "name": "stdout",
     "output_type": "stream",
     "text": [
      "_20190718213917.png\n",
      "_20190718213926.png\n",
      "_20190718213936.png\n",
      "_20190718215730.png\n",
      "_20190718215740.png\n"
     ]
    },
    {
     "name": "stderr",
     "output_type": "stream",
     "text": [
      "/home/ldy/anaconda3/envs/pytorch/lib/python3.6/site-packages/PIL/Image.py:2735: DecompressionBombWarning: Image size (97622231 pixels) exceeds limit of 89478485 pixels, could be decompression bomb DOS attack.\n",
      "  DecompressionBombWarning,\n"
     ]
    },
    {
     "name": "stdout",
     "output_type": "stream",
     "text": [
      "_20190718215800.png\n",
      "_20190719181431.png\n",
      "_20190719181439.png\n",
      "_20190719181450.png\n",
      "_20190719181501.png\n"
     ]
    },
    {
     "name": "stderr",
     "output_type": "stream",
     "text": [
      "/home/ldy/anaconda3/envs/pytorch/lib/python3.6/site-packages/PIL/Image.py:2735: DecompressionBombWarning: Image size (102819456 pixels) exceeds limit of 89478485 pixels, could be decompression bomb DOS attack.\n",
      "  DecompressionBombWarning,\n"
     ]
    },
    {
     "name": "stdout",
     "output_type": "stream",
     "text": [
      "_20190719183613.png\n"
     ]
    }
   ],
   "source": [
    "src = '/media/ldy/7E1CA94545711AE6/OSCC/mask_x8/std_mask/'\n",
    "save_dir = '/media/ldy/7E1CA94545711AE6/OSCC/mask_x8/std_mask_rgb'\n",
    "\n",
    "if not os.path.exists(save_dir):\n",
    "    os.makedirs(save_dir)\n",
    "    \n",
    "img_list = os.listdir(src)\n",
    "for img in img_list:\n",
    "    print(img)\n",
    "    mask_path = os.path.join(src, img)\n",
    "    save_path = os.path.join(save_dir, img)\n",
    "    \n",
    "    mask = np.array(Image.open(mask_path), dtype='uint8')\n",
    "    rgb = class_to_RGB(mask)\n",
    "    rgb = Image.fromarray(rgb)\n",
    "    rgb.save(save_path)"
   ]
  },
  {
   "cell_type": "code",
   "execution_count": null,
   "metadata": {},
   "outputs": [],
   "source": []
  }
 ],
 "metadata": {
  "kernelspec": {
   "display_name": "Pytorch",
   "language": "python",
   "name": "pytorch"
  },
  "language_info": {
   "codemirror_mode": {
    "name": "ipython",
    "version": 3
   },
   "file_extension": ".py",
   "mimetype": "text/x-python",
   "name": "python",
   "nbconvert_exporter": "python",
   "pygments_lexer": "ipython3",
   "version": "3.6.7"
  }
 },
 "nbformat": 4,
 "nbformat_minor": 2
}
