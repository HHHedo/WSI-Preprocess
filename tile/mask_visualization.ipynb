{
 "cells": [
  {
   "cell_type": "markdown",
   "metadata": {},
   "source": [
    "# anno_mask vis"
   ]
  },
  {
   "cell_type": "code",
   "execution_count": 3,
   "metadata": {},
   "outputs": [
    {
     "data": {
      "text/plain": [
       "<Figure size 640x480 with 1 Axes>"
      ]
     },
     "metadata": {},
     "output_type": "display_data"
    }
   ],
   "source": [
    "import matplotlib.pyplot as plt\n",
    "from PIL import Image\n",
    "import numpy as np\n",
    "\n",
    "root = '/media/ldy/7E1CA94545711AE6/OSCC/mask_5x_v2/anno_mask/'\n",
    "ex = '_20190403080921.png'\n",
    "\n",
    "img_path = root + ex\n",
    "\n",
    "img = np.array(Image.open(img_path), dtype='uint8')\n",
    "plt.imshow(img)\n",
    "plt.show()"
   ]
  },
  {
   "cell_type": "markdown",
   "metadata": {},
   "source": [
    "# std_mask vis"
   ]
  },
  {
   "cell_type": "code",
   "execution_count": 4,
   "metadata": {},
   "outputs": [
    {
     "data": {
      "image/png": "[encoded data removed]",
      "text/plain": [
       "<Figure size 432x288 with 1 Axes>"
      ]
     },
     "metadata": {
      "needs_background": "light"
     },
     "output_type": "display_data"
    }
   ],
   "source": [
    "import matplotlib.pyplot as plt\n",
    "from PIL import Image\n",
    "import numpy as np\n",
    "\n",
    "root = '/media/ldy/7E1CA94545711AE6/OSCC/mask_5x_v2/std_mask/'\n",
    "ex = '_20190403080921.png'\n",
    "\n",
    "img_path = root + ex\n",
    "\n",
    "img = np.array(Image.open(img_path), dtype='uint8')\n",
    "plt.imshow(img)\n",
    "plt.show()"
   ]
  },
  {
   "cell_type": "markdown",
   "metadata": {},
   "source": [
    "# std_mask_rgb gen\n",
    "\n"
   ]
  },
  {
   "cell_type": "code",
   "execution_count": 5,
   "metadata": {},
   "outputs": [],
   "source": [
    "def class_to_RGB(label):\n",
    "    h, w = label.shape[0], label.shape[1]\n",
    "    colmap = np.zeros(shape=(h, w, 3)).astype('uint8')\n",
    "\n",
    "    indices = np.where(label == 1)\n",
    "    colmap[indices[0].tolist(), indices[1].tolist(), :] = [255, 0, 0]\n",
    "    indices = np.where(label == 2)\n",
    "    colmap[indices[0].tolist(), indices[1].tolist(), :] = [0, 255, 0]\n",
    "    indices = np.where(label == 3)\n",
    "    colmap[indices[0].tolist(), indices[1].tolist(), :] = [0, 0, 255]\n",
    "    indices = np.where(label == 0)\n",
    "    colmap[indices[0].tolist(), indices[1].tolist(), :] = [0, 0, 0]\n",
    "\n",
    "    return colmap"
   ]
  },
  {
   "cell_type": "code",
   "execution_count": 7,
   "metadata": {},
   "outputs": [
    {
     "name": "stdout",
     "output_type": "stream",
     "text": [
      "_20190403101027.png\n",
      "_20190404140854.png\n",
      "_20190412130816.png\n",
      "_20190403080921.png\n",
      "_20190403080932.png\n",
      "_20190403080952.png\n",
      "_20190403081003.png\n",
      "_20190403081013.png\n",
      "_20190403083910.png\n",
      "_20190403083921.png\n",
      "_20190403083941.png\n",
      "_20190403091239.png\n",
      "_20190403091249.png\n",
      "_20190403091259.png\n",
      "_20190403091310.png\n",
      "_20190403091320.png\n",
      "_20190403094116.png\n",
      "_20190403094156.png\n",
      "_20190403094206.png\n",
      "_20190403101908.png\n",
      "_20190403101928.png\n",
      "_20190403101939.png\n",
      "_20190403101949.png\n",
      "_20190403101959.png\n",
      "_20190403115136.png\n",
      "_20190403115146.png\n",
      "_20190403115157.png\n",
      "_20190403115208.png\n",
      "_20190404134831.png\n",
      "_20190404134841.png\n",
      "_20190404134923.png\n",
      "_20190404140803.png\n",
      "_20190404140813.png\n",
      "_20190404140823.png\n",
      "_20190404140844.png\n",
      "_20190404173751.png\n",
      "_20190409135946.png\n",
      "_20190409141622.png\n",
      "_20190409144119.png\n",
      "_20190409144129.png\n",
      "_20190409152251.png\n",
      "_20190409182931.png\n",
      "_20190409183934.png\n",
      "_20190412091216.png\n",
      "_20190412091226.png\n",
      "_20190412091236.png\n",
      "_20190412112805.png\n",
      "_20190412112816.png\n",
      "_20190412112827.png\n",
      "_20190412130756.png\n",
      "_20190412130806.png\n",
      "_20190412130826.png\n",
      "_20190412130836.png\n",
      "_20190412133705.png\n",
      "_20190412133715.png\n",
      "_20190412133725.png\n",
      "_20190412144040.png\n",
      "_20190718200921.png\n",
      "_20190718200932.png\n",
      "_20190718200940.png\n",
      "_20190718200949.png\n",
      "_20190718200957.png\n",
      "_20190718203748.png\n",
      "_20190718203759.png\n",
      "_20190718203809.png\n",
      "_20190718203820.png\n",
      "_20190718210348.png\n",
      "_20190718210408.png\n",
      "_20190718210418.png\n",
      "_20190718210428.png\n"
     ]
    }
   ],
   "source": [
    "import os\n",
    "\n",
    "src = '/media/ldy/7E1CA94545711AE6/OSCC/mask_5x_v2/std_cmp_mask/'\n",
    "save_dir = '/media/ldy/7E1CA94545711AE6/OSCC/mask_5x_v2/std_cmp_mask_rgb'\n",
    "\n",
    "if not os.path.exists(save_dir):\n",
    "    os.makedirs(save_dir)\n",
    "    \n",
    "img_list = os.listdir(src)\n",
    "for img in img_list:\n",
    "    print(img)\n",
    "    mask_path = os.path.join(src, img)\n",
    "    save_path = os.path.join(save_dir, img)\n",
    "    \n",
    "    mask = np.array(Image.open(mask_path), dtype='uint8')\n",
    "    rgb = class_to_RGB(mask)\n",
    "    rgb = Image.fromarray(rgb)\n",
    "    rgb.save(save_path)"
   ]
  },
  {
   "cell_type": "code",
   "execution_count": 2,
   "metadata": {},
   "outputs": [],
   "source": [
    "import os\n",
    "from PIL import Image\n",
    "import numpy as np\n",
    "import matplotlib.pyplot as plt\n",
    "\n",
    "\n",
    "src = '/media/ldy/e5a10f4e-18fd-4656-80d8-055bc4078655/OSCC-Tile-v2/5x_1600/train_mask/_20190403081003/'\n",
    "prefix = '_20190403081003'\n",
    "postfix = '.png'\n",
    "\n",
    "te = prefix + '_' + str(3) + '_' + str(3) + '_' + postfix\n",
    "img_gray = np.array(Image.open(os.path.join(src, te)))\n"
   ]
  },
  {
   "cell_type": "code",
   "execution_count": 9,
   "metadata": {},
   "outputs": [
    {
     "data": {
      "text/plain": [
       "array([[1, 1, 1, ..., 1, 1, 1],\n",
       "       [1, 1, 1, ..., 1, 1, 1],\n",
       "       [1, 1, 1, ..., 1, 1, 1],\n",
       "       ...,\n",
       "       [1, 1, 1, ..., 3, 3, 3],\n",
       "       [1, 1, 1, ..., 3, 3, 3],\n",
       "       [1, 1, 1, ..., 3, 3, 3]], dtype=uint8)"
      ]
     },
     "execution_count": 9,
     "metadata": {},
     "output_type": "execute_result"
    }
   ],
   "source": [
    "img_gray"
   ]
  },
  {
   "cell_type": "code",
   "execution_count": 10,
   "metadata": {},
   "outputs": [],
   "source": [
    "def class_to_RGB(label):\n",
    "    h, w = label.shape[0], label.shape[1]\n",
    "    colmap = np.zeros(shape=(h, w, 3)).astype(np.uint8)\n",
    "\n",
    "    indices = np.where(label == 1)\n",
    "    colmap[indices[0].tolist(), indices[1].tolist(), :] = [255, 0, 0]\n",
    "    indices = np.where(label == 2)\n",
    "    colmap[indices[0].tolist(), indices[1].tolist(), :] = [0, 255, 255]\n",
    "    indices = np.where(label == 3)\n",
    "    colmap[indices[0].tolist(), indices[1].tolist(), :] = [0, 255, 255]\n",
    "    indices = np.where(label == 0)\n",
    "    colmap[indices[0].tolist(), indices[1].tolist(), :] = [0, 0, 0]\n",
    "\n",
    "    return colmap"
   ]
  },
  {
   "cell_type": "code",
   "execution_count": 11,
   "metadata": {},
   "outputs": [
    {
     "data": {
      "image/png": "[encoded data removed]",
      "text/plain": [
       "<Figure size 432x288 with 1 Axes>"
      ]
     },
     "metadata": {
      "needs_background": "light"
     },
     "output_type": "display_data"
    }
   ],
   "source": [
    "img_rgb = class_to_RGB(img_gray)\n",
    "plt.figure()\n",
    "plt.imshow(img_rgb)\n",
    "plt.show()"
   ]
  },
  {
   "cell_type": "code",
   "execution_count": 13,
   "metadata": {},
   "outputs": [],
   "source": [
    "anchors = ['3', '5', '7']\n",
    "dst = '/home/ldy/图片/dd'\n",
    "for col in anchors:\n",
    "    for row in anchors:\n",
    "        te = prefix + '_' + col + '_' + row + \"_\" + postfix\n",
    "        img_gray = np.array(Image.open(os.path.join(src, te)))\n",
    "        img_rgb = class_to_RGB(img_gray)\n",
    "        img_rgb = Image.fromarray(img_rgb)\n",
    "        img_rgb.save(os.path.join(dst, te))"
   ]
  },
  {
   "cell_type": "code",
   "execution_count": null,
   "metadata": {},
   "outputs": [],
   "source": []
  }
 ],
 "metadata": {
  "kernelspec": {
   "display_name": "Pytorch",
   "language": "python",
   "name": "pytorch"
  },
  "language_info": {
   "codemirror_mode": {
    "name": "ipython",
    "version": 3
   },
   "file_extension": ".py",
   "mimetype": "text/x-python",
   "name": "python",
   "nbconvert_exporter": "python",
   "pygments_lexer": "ipython3",
   "version": "3.6.7"
  }
 },
 "nbformat": 4,
 "nbformat_minor": 2
}
