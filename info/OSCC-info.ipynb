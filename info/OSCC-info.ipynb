{
 "cells": [
  {
   "cell_type": "markdown",
   "metadata": {},
   "source": [
    "# 病理图像大小统计和可视化"
   ]
  },
  {
   "cell_type": "code",
   "execution_count": 1,
   "metadata": {},
   "outputs": [
    {
     "data": {
      "text/plain": [
       "<Figure size 640x480 with 1 Axes>"
      ]
     },
     "metadata": {},
     "output_type": "display_data"
    }
   ],
   "source": [
    "import os\n",
    "import cv2\n",
    "import matplotlib.pyplot as plt\n",
    "import numpy as np\n",
    "\n",
    "\n",
    "img_dir = '/media/ldy/7E1CA94545711AE6/OSCC/5x_png/'\n",
    "x = []\n",
    "y = []\n",
    "for c in os.listdir(img_dir):\n",
    "    img = cv2.imread(os.path.join(img_dir, c))\n",
    "    h, w, _ = img.shape\n",
    "    x.append(w)\n",
    "    y.append(h)\n",
    "x = np.array(x)\n",
    "y = np.array(y)\n",
    "\n",
    "plt.scatter(x, y, s=5)\n",
    "plt.title('OSCC Size Distribution')\n",
    "plt.xlabel('width')\n",
    "plt.ylabel('height')\n",
    "plt.show()"
   ]
  },
  {
   "cell_type": "code",
   "execution_count": 2,
   "metadata": {},
   "outputs": [
    {
     "data": {
      "image/png": "[encoded data removed]",
      "text/plain": [
       "<Figure size 432x288 with 1 Axes>"
      ]
     },
     "metadata": {
      "needs_background": "light"
     },
     "output_type": "display_data"
    }
   ],
   "source": [
    "plt.figure()\n",
    "plt.scatter(x, y, s=5)\n",
    "plt.title('OSCC Size Distribution')\n",
    "plt.xlabel('width')\n",
    "plt.ylabel('height')\n",
    "plt.show()"
   ]
  },
  {
   "cell_type": "code",
   "execution_count": 9,
   "metadata": {},
   "outputs": [],
   "source": [
    "import pandas as pd\n",
    "\n",
    "xlsx_path = '/media/ldy/7E1CA94545711AE6/OSCC/口腔鳞癌数据集情况统计.xlsx'\n",
    "histo_term = '病理号'  # 1\n",
    "tumor_term = '肿瘤分布' # 3\n",
    "anno_term = '标注程度' # 4\n",
    "data_meta = pd.read_excel(xlsx_path)"
   ]
  },
  {
   "cell_type": "markdown",
   "metadata": {},
   "source": [
    "# 病人统计"
   ]
  },
  {
   "cell_type": "code",
   "execution_count": 36,
   "metadata": {},
   "outputs": [],
   "source": [
    "histo = data_meta[histo_term]\n",
    "ids = {}  #　病理号－文件名字典\n",
    "for c in histo:\n",
    "    sp = c.split('-')\n",
    "    if len(sp) == 2:\n",
    "        k = c\n",
    "    else:\n",
    "        k = sp[0] + '-' + sp[1]\n",
    "    if k not in ids.keys():\n",
    "        ids[k] = [c]\n",
    "    else:\n",
    "        ids[k].append(c)"
   ]
  },
  {
   "cell_type": "code",
   "execution_count": 38,
   "metadata": {},
   "outputs": [
    {
     "data": {
      "text/plain": [
       "114"
      ]
     },
     "execution_count": 38,
     "metadata": {},
     "output_type": "execute_result"
    }
   ],
   "source": [
    "len(ids.keys())  #病人数量"
   ]
  },
  {
   "cell_type": "code",
   "execution_count": 42,
   "metadata": {},
   "outputs": [
    {
     "data": {
      "text/plain": [
       "Text(0.5, 1.0, 'id-patients distribution')"
      ]
     },
     "execution_count": 42,
     "metadata": {},
     "output_type": "execute_result"
    },
    {
     "data": {
      "image/png": "[encoded data removed]",
      "text/plain": [
       "<Figure size 432x288 with 1 Axes>"
      ]
     },
     "metadata": {
      "needs_background": "light"
     },
     "output_type": "display_data"
    }
   ],
   "source": [
    "num_per_patient = [len(v) for v in ids.values()]\n",
    "\n",
    "plt.figure()\n",
    "plt.hist(num_per_patient, bins=6)\n",
    "plt.xlabel('num of patients')\n",
    "plt.ylabel('num of ids w.r.t num of patients')\n",
    "plt.title('id-patients distribution')"
   ]
  },
  {
   "cell_type": "markdown",
   "metadata": {},
   "source": [
    "# 训练集、验证集选择"
   ]
  },
  {
   "cell_type": "code",
   "execution_count": 22,
   "metadata": {},
   "outputs": [],
   "source": [
    "info = {}\n",
    "for c in data_meta.itertuples():\n",
    "    if c[6] != '2019_test':  #尚未标注，无法使用\n",
    "        info[c[1]] = tuple([c[3], int(c[4])])"
   ]
  },
  {
   "cell_type": "code",
   "execution_count": 25,
   "metadata": {},
   "outputs": [
    {
     "data": {
      "text/plain": [
       "144"
      ]
     },
     "execution_count": 25,
     "metadata": {},
     "output_type": "execute_result"
    }
   ],
   "source": [
    "len(info.keys())   #样本数量, 训练集108, 测试集36"
   ]
  },
  {
   "cell_type": "code",
   "execution_count": 47,
   "metadata": {},
   "outputs": [],
   "source": [
    "dense = []\n",
    "distributed = []\n",
    "sparse = []\n",
    "undiffered = []\n",
    "cavity = []\n",
    "\n",
    "for k, v in info.items():\n",
    "    if isinstance(v[0], int):\n",
    "        if v[0] == 1:\n",
    "            dense.append((k, v[1]))\n",
    "        elif v[0] == 2:\n",
    "            distributed.append((k, v[1]))\n",
    "        elif v[0] == 3:\n",
    "            sparse.append((k, v[1]))\n",
    "        elif v[0] == 4:\n",
    "            undiffered.append((k, v[1]))\n",
    "        elif v[0] == 5:\n",
    "            cavity.append((k, v[1]))\n",
    "    else:\n",
    "        sp = v[0].split('+')\n",
    "        t1, t2 = int(sp[0]), int(sp[1])\n",
    "        if t1 == 1 or t2 == 1:\n",
    "            dense.append((k, v[1]))\n",
    "        if t1 == 2 or t2 == 2:\n",
    "            distributed.append((k, v[1]))\n",
    "        if t1 == 3 or t2 == 3:\n",
    "            sparse.append((k, v[1]))\n",
    "        if t1 == 4 or t2 == 4:\n",
    "            undiffered.append((k, v[1]))\n",
    "        if t1 == 5 or t2 == 5:\n",
    "            cavity.append((k, v[1]))"
   ]
  },
  {
   "cell_type": "code",
   "execution_count": 48,
   "metadata": {},
   "outputs": [
    {
     "name": "stdout",
     "output_type": "stream",
     "text": [
      "82 23 18 9 22\n"
     ]
    }
   ],
   "source": [
    "print(len(dense), len(distributed), len(sparse), len(undiffered), len(cavity))\n",
    "# 19 6 4 2 5 "
   ]
  },
  {
   "cell_type": "code",
   "execution_count": 29,
   "metadata": {},
   "outputs": [],
   "source": [
    "coarse = []\n",
    "standard = []\n",
    "fine = []\n",
    "\n",
    "for k, v in info.items():\n",
    "    if v[1] == 1:\n",
    "        standard.append((k, v[0]))\n",
    "    elif v[1] == 2:\n",
    "        fine.append((k, v[0]))\n",
    "    else:\n",
    "        coarse.append((k, v[0]))"
   ]
  },
  {
   "cell_type": "code",
   "execution_count": 30,
   "metadata": {},
   "outputs": [
    {
     "name": "stdout",
     "output_type": "stream",
     "text": [
      "26 70 48\n"
     ]
    }
   ],
   "source": [
    "print(len(coarse), len(standard), len(fine))"
   ]
  },
  {
   "cell_type": "code",
   "execution_count": 52,
   "metadata": {},
   "outputs": [
    {
     "name": "stdout",
     "output_type": "stream",
     "text": [
      "[23, 7, 9, 4, 7]\n"
     ]
    }
   ],
   "source": [
    "space = [0]*5\n",
    "for c in fine:\n",
    "    if isinstance(c[1], int):\n",
    "        space[c[1]-1] += 1\n",
    "    else:\n",
    "        space[int(c[1][0])-1] += 1\n",
    "        space[int(c[1][2])-1] += 1\n",
    "print(space)"
   ]
  },
  {
   "cell_type": "code",
   "execution_count": null,
   "metadata": {},
   "outputs": [],
   "source": []
  }
 ],
 "metadata": {
  "kernelspec": {
   "display_name": "Pytorch",
   "language": "python",
   "name": "pytorch"
  },
  "language_info": {
   "codemirror_mode": {
    "name": "ipython",
    "version": 3
   },
   "file_extension": ".py",
   "mimetype": "text/x-python",
   "name": "python",
   "nbconvert_exporter": "python",
   "pygments_lexer": "ipython3",
   "version": "3.6.7"
  }
 },
 "nbformat": 4,
 "nbformat_minor": 2
}
